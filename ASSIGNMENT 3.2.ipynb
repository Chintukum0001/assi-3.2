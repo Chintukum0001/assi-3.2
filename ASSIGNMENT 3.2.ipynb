{
 "cells": [
  {
   "cell_type": "code",
   "execution_count": 1,
   "id": "6d8932eb",
   "metadata": {},
   "outputs": [],
   "source": [
    "#Write a Python program to reverse a string.\n",
    "\n",
    "\n",
    "\n",
    "#Sample String : \"4321abcd\"\n",
    "\n",
    "#Expected Output : \"dcba1234\"\n",
    "\n",
    "\n",
    "def Reverse():\n",
    "    \n",
    "    R=input()\n",
    "    Q= list(R)\n",
    "    Q.reverse()\n",
    "    print(\"\".join(Q)) "
   ]
  },
  {
   "cell_type": "code",
   "execution_count": 2,
   "id": "1076833d",
   "metadata": {},
   "outputs": [
    {
     "name": "stdout",
     "output_type": "stream",
     "text": [
      "4321abcd\n",
      "dcba1234\n"
     ]
    }
   ],
   "source": [
    "Reverse()"
   ]
  }
 ],
 "metadata": {
  "kernelspec": {
   "display_name": "Python 3 (ipykernel)",
   "language": "python",
   "name": "python3"
  },
  "language_info": {
   "codemirror_mode": {
    "name": "ipython",
    "version": 3
   },
   "file_extension": ".py",
   "mimetype": "text/x-python",
   "name": "python",
   "nbconvert_exporter": "python",
   "pygments_lexer": "ipython3",
   "version": "3.10.2"
  }
 },
 "nbformat": 4,
 "nbformat_minor": 5
}
